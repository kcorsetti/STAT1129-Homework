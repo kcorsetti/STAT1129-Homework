{
 "cells": [
  {
   "cell_type": "code",
   "execution_count": 1,
   "id": "366acf80",
   "metadata": {},
   "outputs": [
    {
     "name": "stdout",
     "output_type": "stream",
     "text": [
      "0\n",
      "1\n",
      "2\n",
      "3\n",
      "4\n",
      "5\n"
     ]
    }
   ],
   "source": [
    "#Problem1\n",
    "i = 0\n",
    "while i < 10:\n",
    "    print(i)\n",
    "    if i == 5:\n",
    "        break\n",
    "    i += 1"
   ]
  },
  {
   "cell_type": "code",
   "execution_count": 2,
   "id": "eaf4d6e8",
   "metadata": {},
   "outputs": [
    {
     "name": "stdout",
     "output_type": "stream",
     "text": [
      "0\n",
      "1\n",
      "2\n",
      "3\n",
      "4\n",
      "5  is not less than 5\n"
     ]
    }
   ],
   "source": [
    "#Problem 2\n",
    "count = 0\n",
    "while count < 5:\n",
    "    print(count)\n",
    "    count = count + 1\n",
    "else: \n",
    "    print(count, \" is not less than 5\")"
   ]
  },
  {
   "cell_type": "code",
   "execution_count": 3,
   "id": "7a8b2233",
   "metadata": {},
   "outputs": [
    {
     "name": "stdout",
     "output_type": "stream",
     "text": [
      "['banana', 'orange', 'apple']\n",
      "I like banana\n",
      "I like orange\n",
      "apple is really a fruit?\n"
     ]
    }
   ],
   "source": [
    "#Problem 3\n",
    "fruitList = [\"banana\", \"orange\", \"apple\"]\n",
    "badfruit = \"apple\"\n",
    "print(fruitList)\n",
    "\n",
    "for fruit in fruitList:\n",
    "    if fruit != badfruit:\n",
    "        print(\"I like\", fruit)\n",
    "else: print(badfruit, \"is really a fruit?\")"
   ]
  },
  {
   "cell_type": "code",
   "execution_count": 4,
   "id": "d6f27e91",
   "metadata": {},
   "outputs": [
    {
     "name": "stdout",
     "output_type": "stream",
     "text": [
      "sum = 465\n"
     ]
    }
   ],
   "source": [
    "#Problem 4\n",
    "n = 30\n",
    "total_numbers = n\n",
    "sum = 0\n",
    "while n >= 0:\n",
    "    sum += n\n",
    "    n -= 1\n",
    "print(\"sum =\", sum)"
   ]
  },
  {
   "cell_type": "code",
   "execution_count": 5,
   "id": "945b3d0f",
   "metadata": {},
   "outputs": [
    {
     "name": "stdout",
     "output_type": "stream",
     "text": [
      "B\n"
     ]
    }
   ],
   "source": [
    "#Problem 5\n",
    "grade = 80\n",
    "if grade >= 90:\n",
    "    print (\"A\")\n",
    "elif 90 > grade >= 80:\n",
    "    print (\"B\")\n",
    "elif 80 > grade >= 70:\n",
    "    print (\"C\")\n",
    "elif 70 > grade >= 60:\n",
    "    print (\"D\")\n",
    "else:\n",
    "    print (\"F\")"
   ]
  },
  {
   "cell_type": "code",
   "execution_count": 12,
   "id": "00941ea0",
   "metadata": {},
   "outputs": [
    {
     "name": "stdout",
     "output_type": "stream",
     "text": [
      "Andy scored 88\n",
      "Amy scored 66\n",
      "James scored 90\n",
      "Jules scored 55\n",
      "Arthur scored 70\n",
      "this is the mean:  73.8\n",
      "this is the max:  Jules 90\n",
      "this is the min:  Amy 55\n"
     ]
    }
   ],
   "source": [
    "#Problem 6\n",
    "marks = {'Andy': 88, 'Amy': 66, 'James': 90, 'Jules': 55, 'Arthur': 70}\n",
    "for student, grade in marks.items():\n",
    "    print(f'{student} scored {grade}')\n",
    "    \n",
    "count = 0\n",
    "_sum = 0\n",
    "for grade in marks:\n",
    "    count += 1\n",
    "    _sum += marks[grade]\n",
    "\n",
    "print('this is the mean: ', _sum/count)\n",
    "\n",
    "max_value = max(marks)\n",
    "min_value = min(marks)\n",
    "max_value1 = max(marks.values())\n",
    "min_value1 = min(marks.values())\n",
    " \n",
    "print('this is the max: ', max_value, max_value1)\n",
    " \n",
    "print('this is the min: ', min_value, min_value1)"
   ]
  },
  {
   "cell_type": "code",
   "execution_count": 13,
   "id": "8fa86b63",
   "metadata": {},
   "outputs": [
    {
     "name": "stdout",
     "output_type": "stream",
     "text": [
      "Andy\n",
      "Amy\n"
     ]
    }
   ],
   "source": [
    "for i in marks:\n",
    "    if 'J' in i:\n",
    "        break\n",
    "    print(i)"
   ]
  },
  {
   "cell_type": "code",
   "execution_count": 14,
   "id": "09219e79",
   "metadata": {},
   "outputs": [
    {
     "name": "stdout",
     "output_type": "stream",
     "text": [
      "Andy\n",
      "Amy\n",
      "Arthur\n"
     ]
    }
   ],
   "source": [
    "for i in marks:\n",
    "    if 'J' in i:\n",
    "        continue\n",
    "    print(i)"
   ]
  }
 ],
 "metadata": {
  "kernelspec": {
   "display_name": "Python 3 (ipykernel)",
   "language": "python",
   "name": "python3"
  },
  "language_info": {
   "codemirror_mode": {
    "name": "ipython",
    "version": 3
   },
   "file_extension": ".py",
   "mimetype": "text/x-python",
   "name": "python",
   "nbconvert_exporter": "python",
   "pygments_lexer": "ipython3",
   "version": "3.9.13"
  }
 },
 "nbformat": 4,
 "nbformat_minor": 5
}
