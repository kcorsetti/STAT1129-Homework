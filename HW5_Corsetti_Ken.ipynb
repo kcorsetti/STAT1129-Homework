{
 "cells": [
  {
   "cell_type": "code",
   "execution_count": 19,
   "id": "a3faef29",
   "metadata": {},
   "outputs": [],
   "source": [
    "#Problem 1\n",
    "class Human:\n",
    "\n",
    "    class_attribute_1_number_of_legs = 2\n",
    "    class_attribute_2_has_hair = True\n",
    "    class_attribute_3_can_move = True\n",
    "\n",
    "\n",
    "    def __init__(self, gender, weight, height):\n",
    "        self.instance_attribute_gender = gender\n",
    "        self.instance_attribute_weight = weight\n",
    "        self.instance_attribute_height = height\n"
   ]
  },
  {
   "cell_type": "code",
   "execution_count": 20,
   "id": "5c68fd9f",
   "metadata": {},
   "outputs": [],
   "source": [
    "Joe = Human(gender=\"male\", weight=150, height=6)"
   ]
  },
  {
   "cell_type": "code",
   "execution_count": 21,
   "id": "57da17d6",
   "metadata": {},
   "outputs": [
    {
     "data": {
      "text/plain": [
       "'male'"
      ]
     },
     "execution_count": 21,
     "metadata": {},
     "output_type": "execute_result"
    }
   ],
   "source": [
    "Joe.instance_attribute_gender"
   ]
  },
  {
   "cell_type": "code",
   "execution_count": 24,
   "id": "2fca8bf1",
   "metadata": {},
   "outputs": [],
   "source": [
    "A = Human(gender=\"female\", weight=100, height=5)"
   ]
  },
  {
   "cell_type": "code",
   "execution_count": 25,
   "id": "d57ee248",
   "metadata": {},
   "outputs": [
    {
     "data": {
      "text/plain": [
       "'female'"
      ]
     },
     "execution_count": 25,
     "metadata": {},
     "output_type": "execute_result"
    }
   ],
   "source": [
    "A.instance_attribute_gender"
   ]
  },
  {
   "cell_type": "code",
   "execution_count": 26,
   "id": "6a43884e",
   "metadata": {},
   "outputs": [],
   "source": [
    "B = Human(gender=\"male\", weight=100, height=5)"
   ]
  },
  {
   "cell_type": "code",
   "execution_count": 27,
   "id": "35781c04",
   "metadata": {},
   "outputs": [
    {
     "data": {
      "text/plain": [
       "100"
      ]
     },
     "execution_count": 27,
     "metadata": {},
     "output_type": "execute_result"
    }
   ],
   "source": [
    "B.instance_attribute_weight"
   ]
  },
  {
   "cell_type": "code",
   "execution_count": 41,
   "id": "f66c9d18",
   "metadata": {},
   "outputs": [],
   "source": [
    "#Problem 2\n",
    "import math\n",
    "\n",
    "class Point:\n",
    "    def __init__(self,x,y): \n",
    "        self.x = x\n",
    "        self.y = y\n",
    "        \n",
    "    def Dist(self,other):\n",
    "        dx = self.x - other.x  \n",
    "        dy = self.y - other.y   \n",
    "        d = math.sqrt(dx**2+dy**2)  \n",
    "        return d"
   ]
  },
  {
   "cell_type": "code",
   "execution_count": 42,
   "id": "ab4d0fd6",
   "metadata": {},
   "outputs": [
    {
     "name": "stdout",
     "output_type": "stream",
     "text": [
      "4.47213595499958\n"
     ]
    }
   ],
   "source": [
    "P = Point(0,0)\n",
    "Q = Point(2,4)\n",
    "d = P.Dist(Q)\n",
    "print(d)   "
   ]
  },
  {
   "cell_type": "code",
   "execution_count": 29,
   "id": "7a5832b9",
   "metadata": {},
   "outputs": [],
   "source": [
    "#Problem 3\n",
    "\n",
    "#The Answer is B. Class B inherits A, thus automatically inherits all data fields in A.\n",
    "        \n"
   ]
  },
  {
   "cell_type": "code",
   "execution_count": 30,
   "id": "41e52f6d",
   "metadata": {},
   "outputs": [
    {
     "name": "stdout",
     "output_type": "stream",
     "text": [
      "hello world\n"
     ]
    }
   ],
   "source": [
    "#Problem 4\n",
    "def main():\n",
    "    print(\"hello \", end=\"\")\n",
    "\n",
    "try:\n",
    "    if __name__ == \"__main__\":\n",
    "        main()\n",
    "except:\n",
    "    print(\"name\")\n",
    "finally:\n",
    "    print(\"world\")"
   ]
  },
  {
   "cell_type": "code",
   "execution_count": 39,
   "id": "2b33227c",
   "metadata": {},
   "outputs": [],
   "source": [
    "#Problem 5\n",
    "\n",
    "#The Answer is C. \" 'self' is not needed in def namePrint(self)\" is incorrect. It is needed.\n"
   ]
  },
  {
   "cell_type": "code",
   "execution_count": 33,
   "id": "52f5cab4",
   "metadata": {},
   "outputs": [
    {
     "ename": "TypeError",
     "evalue": "Only integers are allowed",
     "output_type": "error",
     "traceback": [
      "\u001b[0;31m---------------------------------------------------------------------------\u001b[0m",
      "\u001b[0;31mTypeError\u001b[0m                                 Traceback (most recent call last)",
      "\u001b[0;32m/var/folders/8l/1_vx435103v_g2r4knsy6sgh0000gn/T/ipykernel_3555/1420263850.py\u001b[0m in \u001b[0;36m<module>\u001b[0;34m\u001b[0m\n\u001b[1;32m      2\u001b[0m \u001b[0mx\u001b[0m \u001b[0;34m=\u001b[0m \u001b[0;34m\"hello\"\u001b[0m\u001b[0;34m\u001b[0m\u001b[0;34m\u001b[0m\u001b[0m\n\u001b[1;32m      3\u001b[0m \u001b[0;32mif\u001b[0m \u001b[0;32mnot\u001b[0m \u001b[0mtype\u001b[0m\u001b[0;34m(\u001b[0m\u001b[0mx\u001b[0m\u001b[0;34m)\u001b[0m \u001b[0;32mis\u001b[0m \u001b[0mint\u001b[0m\u001b[0;34m:\u001b[0m\u001b[0;34m\u001b[0m\u001b[0;34m\u001b[0m\u001b[0m\n\u001b[0;32m----> 4\u001b[0;31m     \u001b[0;32mraise\u001b[0m \u001b[0mTypeError\u001b[0m\u001b[0;34m(\u001b[0m\u001b[0;34m\"Only integers are allowed\"\u001b[0m\u001b[0;34m)\u001b[0m\u001b[0;34m\u001b[0m\u001b[0;34m\u001b[0m\u001b[0m\n\u001b[0m",
      "\u001b[0;31mTypeError\u001b[0m: Only integers are allowed"
     ]
    }
   ],
   "source": [
    "#Problem 6\n",
    "x = \"hello\"\n",
    "if not type(x) is int:\n",
    "    raise TypeError(\"Only integers are allowed\")"
   ]
  }
 ],
 "metadata": {
  "kernelspec": {
   "display_name": "Python 3 (ipykernel)",
   "language": "python",
   "name": "python3"
  },
  "language_info": {
   "codemirror_mode": {
    "name": "ipython",
    "version": 3
   },
   "file_extension": ".py",
   "mimetype": "text/x-python",
   "name": "python",
   "nbconvert_exporter": "python",
   "pygments_lexer": "ipython3",
   "version": "3.9.13"
  }
 },
 "nbformat": 4,
 "nbformat_minor": 5
}
