{
 "cells": [
  {
   "cell_type": "code",
   "execution_count": 1,
   "id": "05f47f3a",
   "metadata": {},
   "outputs": [
    {
     "name": "stdout",
     "output_type": "stream",
     "text": [
      "90\n"
     ]
    }
   ],
   "source": [
    "#Problem 1, part 1\n",
    "def print_student(student_name):\n",
    "    marks = {'Andy': 88, 'Amy': 66, 'James': 90, 'Jules': 55, 'Arthur': 77}\n",
    "    for student in marks:\n",
    "        if student == student_name:\n",
    "            print(marks[student])\n",
    "            break\n",
    "    else:\n",
    "        print('No entry with that name found.')\n",
    "        \n",
    "print_student(\"James\")"
   ]
  },
  {
   "cell_type": "code",
   "execution_count": 2,
   "id": "86426e12",
   "metadata": {},
   "outputs": [
    {
     "name": "stdout",
     "output_type": "stream",
     "text": [
      "Class's average is: 75.20\n"
     ]
    }
   ],
   "source": [
    "#Problem 1, part 2\n",
    "\n",
    "all_grades_total = 0\n",
    "all_grades_count = 0\n",
    "\n",
    "marks = {'Andy': 88, 'Amy': 66, 'James': 90, 'Jules': 55, 'Arthur': 77}\n",
    "for name, grades in marks.items():\n",
    "    total = 88 + 66 + 90 + 55 + 77\n",
    "    all_grades_total += total\n",
    "    all_grades_count += len(marks)\n",
    "    \n",
    "print(f\"Class's average is: {all_grades_total / all_grades_count:.2f}\")"
   ]
  },
  {
   "cell_type": "code",
   "execution_count": 2,
   "id": "b3d52d56",
   "metadata": {},
   "outputs": [
    {
     "name": "stdout",
     "output_type": "stream",
     "text": [
      "2\n",
      "4\n",
      "greater than  8\n"
     ]
    }
   ],
   "source": [
    "#Problem 2\n",
    "def less_greater(num):\n",
    "    n = 2\n",
    "    while n < num:\n",
    "        print(n)\n",
    "        n = n ** 2\n",
    "    else:\n",
    "        print(\"greater than \", num)\n",
    "\n",
    "less_greater(8)"
   ]
  },
  {
   "cell_type": "code",
   "execution_count": 3,
   "id": "10d5986d",
   "metadata": {},
   "outputs": [
    {
     "name": "stdout",
     "output_type": "stream",
     "text": [
      "210\n"
     ]
    }
   ],
   "source": [
    "#Problem 3\n",
    "def sumfunction(num):\n",
    "    n = 1\n",
    "    sum = 0\n",
    "    while n <= num:\n",
    "        sum = sum + n\n",
    "        n = n + 1\n",
    "    print(sum)\n",
    "sumfunction(20)"
   ]
  },
  {
   "cell_type": "code",
   "execution_count": 16,
   "id": "7af63499",
   "metadata": {},
   "outputs": [
    {
     "name": "stdout",
     "output_type": "stream",
     "text": [
      "0\n",
      "1\n",
      "3\n",
      "6\n",
      "10\n",
      "15\n",
      "21\n",
      "28\n",
      "36\n",
      "45\n",
      "55\n",
      "66\n",
      "78\n",
      "91\n",
      "105\n",
      "120\n",
      "136\n",
      "153\n",
      "171\n",
      "190\n"
     ]
    }
   ],
   "source": [
    "#Problem 4\n",
    "def range_sum(num):\n",
    "    sum = 0\n",
    "    for n in range(num):\n",
    "        sum = sum + n\n",
    "        print(sum)\n",
    "range_sum(20)"
   ]
  },
  {
   "cell_type": "code",
   "execution_count": 5,
   "id": "39db9818",
   "metadata": {},
   "outputs": [
    {
     "data": {
      "text/plain": [
       "50.5"
      ]
     },
     "execution_count": 5,
     "metadata": {},
     "output_type": "execute_result"
    }
   ],
   "source": [
    "#Problem 5, part 1 (mean)\n",
    "def average(*args):\n",
    "    return sum(args)/len(args)\n",
    "average(1, 100)"
   ]
  },
  {
   "cell_type": "code",
   "execution_count": 18,
   "id": "537682ab",
   "metadata": {},
   "outputs": [
    {
     "data": {
      "text/plain": [
       "4950"
      ]
     },
     "execution_count": 18,
     "metadata": {},
     "output_type": "execute_result"
    }
   ],
   "source": [
    "#Problem 5, part 2 (sum)\n",
    "sum(range(1, 100))"
   ]
  },
  {
   "cell_type": "code",
   "execution_count": 10,
   "id": "b0e16c8f",
   "metadata": {},
   "outputs": [
    {
     "data": {
      "text/plain": [
       "28.577380332470412"
      ]
     },
     "execution_count": 10,
     "metadata": {},
     "output_type": "execute_result"
    }
   ],
   "source": [
    "#Problem 5, part 3 (st. dev.)\n",
    "import statistics\n",
    "statistics.pstdev(range(1, 100))"
   ]
  },
  {
   "cell_type": "code",
   "execution_count": 8,
   "id": "94fad4f9",
   "metadata": {},
   "outputs": [
    {
     "data": {
      "text/plain": [
       "2"
      ]
     },
     "execution_count": 8,
     "metadata": {},
     "output_type": "execute_result"
    }
   ],
   "source": [
    "#Problem 6\n",
    "def minimum(v1, v2, v3, v4):\n",
    "    min_value = v1\n",
    "    if v1 > v2:\n",
    "        min_value = v2\n",
    "    if v2 > v3:\n",
    "        min_value = v3\n",
    "    if v3 > v4:\n",
    "        min_value = v4\n",
    "    return min_value\n",
    "minimum(2, 5, 8, 9)"
   ]
  },
  {
   "cell_type": "code",
   "execution_count": 19,
   "id": "0b3cebe6",
   "metadata": {},
   "outputs": [
    {
     "data": {
      "text/plain": [
       "'apple banana grape '"
      ]
     },
     "execution_count": 19,
     "metadata": {},
     "output_type": "execute_result"
    }
   ],
   "source": [
    "#Problem 7\n",
    "def sumstr(s1, s2, s3):\n",
    "    return s1+s2+s3\n",
    "\n",
    "sumstr('apple ', 'banana ', 'grape ')"
   ]
  }
 ],
 "metadata": {
  "kernelspec": {
   "display_name": "Python 3 (ipykernel)",
   "language": "python",
   "name": "python3"
  },
  "language_info": {
   "codemirror_mode": {
    "name": "ipython",
    "version": 3
   },
   "file_extension": ".py",
   "mimetype": "text/x-python",
   "name": "python",
   "nbconvert_exporter": "python",
   "pygments_lexer": "ipython3",
   "version": "3.9.13"
  }
 },
 "nbformat": 4,
 "nbformat_minor": 5
}
